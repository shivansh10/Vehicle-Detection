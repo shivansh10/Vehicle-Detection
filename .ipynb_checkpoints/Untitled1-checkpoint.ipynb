{
 "cells": [
  {
   "cell_type": "code",
   "execution_count": 4,
   "metadata": {},
   "outputs": [],
   "source": [
    "import pandas as pd\n",
    "import numpy as np\n",
    "import os\n",
    "\n",
    "np.random.seed(999)\n",
    "\n",
    "class MozillaCommonVoiceDataset:\n",
    "\n",
    "    def __init__(self, basepath, *, val_dataset_size):\n",
    "        self.basepath = basepath\n",
    "        self.val_dataset_size = val_dataset_size\n",
    "\n",
    "    def _get_common_voice_filenames(self, dataframe_name='train.tsv'):\n",
    "        mozilla_metadata = pd.read_csv(os.path.join(self.basepath, dataframe_name), sep='\\t')\n",
    "        clean_files = mozilla_metadata['path'].values\n",
    "        np.random.shuffle(clean_files)\n",
    "        print(\"Total number of training examples:\", len(clean_files))\n",
    "        return clean_files\n",
    "\n",
    "    def get_train_val_filenames(self):\n",
    "        clean_files = self._get_common_voice_filenames(dataframe_name='train.tsv')\n",
    "\n",
    "        # resolve full path\n",
    "        clean_files = [os.path.join(self.basepath, 'clips', 'train', filename) for filename in clean_files]\n",
    "\n",
    "        clean_files = clean_files[:-self.val_dataset_size]\n",
    "        clean_val_files = clean_files[-self.val_dataset_size:]\n",
    "        print(\"# of Training clean files:\", len(clean_files))\n",
    "        print(\"# of  Validation clean files:\", len(clean_val_files))\n",
    "        return clean_files, clean_val_files\n",
    "\n",
    "\n",
    "    def get_test_filenames(self):\n",
    "        clean_files = self._get_common_voice_filenames(dataframe_name='test.tsv')\n",
    "\n",
    "        # resolve full path\n",
    "        clean_files = [os.path.join(self.basepath, 'clips', 'test', filename) for filename in clean_files]\n",
    "\n",
    "        print(\"# of Testing clean files:\", len(clean_files))\n",
    "        return clean_files"
   ]
  },
  {
   "cell_type": "code",
   "execution_count": 22,
   "metadata": {},
   "outputs": [
    {
     "ename": "ModuleNotFoundError",
     "evalue": "No module named 'data_processing'",
     "output_type": "error",
     "traceback": [
      "\u001b[0;31m---------------------------------------------------------------------------\u001b[0m",
      "\u001b[0;31mModuleNotFoundError\u001b[0m                       Traceback (most recent call last)",
      "\u001b[0;32m<ipython-input-22-3c97bba5cd5f>\u001b[0m in \u001b[0;36m<module>\u001b[0;34m\u001b[0m\n\u001b[0;32m----> 1\u001b[0;31m \u001b[0;32mfrom\u001b[0m \u001b[0mdata_processing\u001b[0m\u001b[0;34m.\u001b[0m\u001b[0murban_sound_8K\u001b[0m \u001b[0;32mimport\u001b[0m \u001b[0mUrbanSound8K\u001b[0m\u001b[0;34m\u001b[0m\u001b[0;34m\u001b[0m\u001b[0m\n\u001b[0m",
      "\u001b[0;31mModuleNotFoundError\u001b[0m: No module named 'data_processing'"
     ]
    }
   ],
   "source": [
    "from data_processing.urban_sound_8K import UrbanSound8K\n"
   ]
  },
  {
   "cell_type": "code",
   "execution_count": 21,
   "metadata": {},
   "outputs": [
    {
     "name": "stdout",
     "output_type": "stream",
     "text": [
      "Untitled.ipynb      good_image.png      ultra.ipynb\r\n",
      "\u001b[34mface-detection\u001b[m\u001b[m/     \u001b[34msnakes\u001b[m\u001b[m/             ultra.py\r\n",
      "\u001b[34mffmpeg\u001b[m\u001b[m/             \u001b[34mspeech-enhancement\u001b[m\u001b[m/ urban_sound_8K.py\r\n"
     ]
    }
   ],
   "source": [
    "ls"
   ]
  },
  {
   "cell_type": "code",
   "execution_count": null,
   "metadata": {},
   "outputs": [],
   "source": []
  }
 ],
 "metadata": {
  "kernelspec": {
   "display_name": "Python 3",
   "language": "python",
   "name": "python3"
  },
  "language_info": {
   "codemirror_mode": {
    "name": "ipython",
    "version": 3
   },
   "file_extension": ".py",
   "mimetype": "text/x-python",
   "name": "python",
   "nbconvert_exporter": "python",
   "pygments_lexer": "ipython3",
   "version": "3.8.3"
  }
 },
 "nbformat": 4,
 "nbformat_minor": 4
}
